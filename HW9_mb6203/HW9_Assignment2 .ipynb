{
 "cells": [
  {
   "cell_type": "markdown",
   "metadata": {
    "run_control": {
     "frozen": false,
     "read_only": false
    }
   },
   "source": [
    "**exercises with statsmodels OLS and WLS**\n",
    "*created by fbb November 2018*\n"
   ]
  },
  {
   "cell_type": "code",
   "execution_count": 4,
   "metadata": {
    "ExecuteTime": {
     "end_time": "2018-11-08T18:05:35.078740Z",
     "start_time": "2018-11-08T18:05:35.037891Z"
    },
    "run_control": {
     "frozen": false,
     "read_only": false
    }
   },
   "outputs": [
    {
     "name": "stdout",
     "output_type": "stream",
     "text": [
      "Populating the interactive namespace from numpy and matplotlib\n"
     ]
    },
    {
     "name": "stderr",
     "output_type": "stream",
     "text": [
      "/usr/local/Anaconda3-5.0.0-Linux-x86_64/envs/PUI2016_Python3/lib/python3.5/site-packages/matplotlib/__init__.py:800: MatplotlibDeprecationWarning: svg.embed_char_paths is deprecated and replaced with svg.fonttype; please use the latter.\n",
      "  mplDeprecation)\n"
     ]
    }
   ],
   "source": [
    "from __future__ import print_function, division\n",
    "import pylab as pl\n",
    "\n",
    "import os\n",
    "import json\n",
    "\n",
    "import statsmodels.api as sm\n",
    "import statsmodels.formula.api as smf\n",
    "s = json.load( open(os.getenv('PUIDATA')+\"/fbb_matplotlibrc.json\") )\n",
    "pl.rcParams.update(s)\n",
    "\n",
    "import statsmodels.api as sm\n",
    "\n",
    "%pylab inline"
   ]
  },
  {
   "cell_type": "code",
   "execution_count": 3,
   "metadata": {},
   "outputs": [],
   "source": [
    "#Setting variable\n",
    "os.environ[\"PUIDATA\"] = \"%s/PUIDATA\"%os.getenv(\"HOME\")"
   ]
  },
  {
   "cell_type": "code",
   "execution_count": 5,
   "metadata": {
    "ExecuteTime": {
     "end_time": "2018-11-08T18:05:35.950830Z",
     "start_time": "2018-11-08T18:05:35.933414Z"
    },
    "run_control": {
     "frozen": false,
     "read_only": false
    }
   },
   "outputs": [],
   "source": [
    "def errors(x):\n",
    "    return np.sqrt(x)\n",
    "    \n",
    "\n",
    "def line(a, x, b=0, errors=None):\n",
    "    '''\n",
    "    creates a line from parameters and exogenous variable\n",
    "    a: slope\n",
    "    x: exogenous variable\n",
    "    b: intercept - default 0\n",
    "    errors: add uncertainties (sqrt(N) - default True)\n",
    "    '''\n",
    "    np.random.randn(123)\n",
    "    if errors is None:\n",
    "        return a*x + b \n",
    "    else:\n",
    "        return a*x + b + np.random.randn(len(x)) * errors(x)\n",
    "    \n",
    "def myregression(x, y, method=None): \n",
    "    if method == None or method == 'O':\n",
    "        rm = sm.OLS(y, x)\n",
    "    elif method == 'W':\n",
    "        rm = sm.WLS(y, x)\n",
    "    else:\n",
    "        print (\"Problem in the way you called myregression\")\n",
    "        return -1\n",
    "            \n",
    "    reg = rm.fit()\n",
    "    print (\"linear regression slope {}\".format(reg.summary()))\n",
    "    return reg"
   ]
  },
  {
   "cell_type": "markdown",
   "metadata": {},
   "source": [
    "**Figure 1: Creating a plot with 10 random points between 0 and 100. The placement of the point could fall anywhere within the error bar.**"
   ]
  },
  {
   "cell_type": "markdown",
   "metadata": {
    "run_control": {
     "frozen": false,
     "read_only": false
    }
   },
   "source": [
    "# 1. create a line with a chosen slope and intercept = 0 and plot it with uncertainties as errorbars\n",
    "\n",
    "use the functions created above"
   ]
  },
  {
   "cell_type": "code",
   "execution_count": 87,
   "metadata": {
    "scrolled": true
   },
   "outputs": [
    {
     "data": {
      "image/png": "[encoded data removed]",
      "text/plain": [
       "<matplotlib.figure.Figure at 0x7f42cb85b128>"
      ]
     },
     "metadata": {},
     "output_type": "display_data"
    }
   ],
   "source": [
    "#creating a plot with 10 random points between 0 and 100.\n",
    "#adding error bars to plot\n",
    "#np.random.seed(123)\n",
    "x = np.linspace(0,100,10) \n",
    "y = line(0.7,x)\n",
    "pl.scatter(x,y, label = \"randon points\")\n",
    "pl.errorbar(x, y, yerr=errors(x), fmt='.')\n",
    "pl.xlabel(\"Exogenous\")\n",
    "pl.ylabel(\"Endogenous\")\n",
    "pl.legend();"
   ]
  },
  {
   "cell_type": "code",
   "execution_count": 91,
   "metadata": {},
   "outputs": [
    {
     "data": {
      "image/png": "[encoded data removed]",
      "text/plain": [
       "<matplotlib.figure.Figure at 0x7f42c809ec18>"
      ]
     },
     "metadata": {},
     "output_type": "display_data"
    }
   ],
   "source": [
    "#creating a plot with 10 random points between 0 and 100.\n",
    "#adding error bars to plot\n",
    "#np.random.seed(123)\n",
    "x = np.linspace(0,100,10) \n",
    "y = line(1,x)\n",
    "pl.scatter(x,y, label = \"randon points\")\n",
    "pl.errorbar(x, y, yerr=errors(x), fmt='.')\n",
    "pl.xlabel(\"Exogenous\")\n",
    "pl.ylabel(\"Endogenous\")\n",
    "pl.legend();"
   ]
  },
  {
   "cell_type": "code",
   "execution_count": 86,
   "metadata": {},
   "outputs": [
    {
     "name": "stdout",
     "output_type": "stream",
     "text": [
      "linear regression slope                             OLS Regression Results                            \n",
      "==============================================================================\n",
      "Dep. Variable:                      y   R-squared:                       0.994\n",
      "Model:                            OLS   Adj. R-squared:                  0.994\n",
      "Method:                 Least Squares   F-statistic:                 1.602e+04\n",
      "Date:                Sun, 11 Nov 2018   Prob (F-statistic):          2.62e-111\n",
      "Time:                        20:10:49   Log-Likelihood:                -299.33\n",
      "No. Observations:                 100   AIC:                             600.7\n",
      "Df Residuals:                      99   BIC:                             603.3\n",
      "Df Model:                           1                                         \n",
      "Covariance Type:            nonrobust                                         \n",
      "==============================================================================\n",
      "                 coef    std err          t      P>|t|      [95.0% Conf. Int.]\n",
      "------------------------------------------------------------------------------\n",
      "x1             1.0079      0.008    126.588      0.000         0.992     1.024\n",
      "==============================================================================\n",
      "Omnibus:                        1.323   Durbin-Watson:                   2.017\n",
      "Prob(Omnibus):                  0.516   Jarque-Bera (JB):                1.195\n",
      "Skew:                           0.266   Prob(JB):                        0.550\n",
      "Kurtosis:                       2.932   Cond. No.                         1.00\n",
      "==============================================================================\n",
      "\n",
      "Warnings:\n",
      "[1] Standard Errors assume that the covariance matrix of the errors is correctly specified.\n"
     ]
    },
    {
     "data": {
      "text/plain": [
       "<matplotlib.legend.Legend at 0x7f42c8116b38>"
      ]
     },
     "execution_count": 86,
     "metadata": {},
     "output_type": "execute_result"
    },
    {
     "data": {
      "image/png": "[encoded data removed]",
      "text/plain": [
       "<matplotlib.figure.Figure at 0x7f42c8d9f5f8>"
      ]
     },
     "metadata": {},
     "output_type": "display_data"
    }
   ],
   "source": [
    "y = y + np.random.randn(100) * 2.5\n",
    "mrold = mrnew\n",
    "\n",
    "#I use just OLD: the ordinary square fit which does not take the error bars \n",
    "#into account\n",
    "#refer to statsmodels documentation!!\n",
    "mrnew = myregression(x, y)\n",
    "\n",
    "fig = pl.figure(figsize=(10, 10))\n",
    "ax = fig.add_subplot(221)\n",
    "ax.scatter(x, y, label = \"plus some noise\")\n",
    "ax.plot(xnew, mrold.predict(xnew), 'k', alpha=0.5, label='old fit')\n",
    "\n",
    "ax.set_xlabel('independent variable')\n",
    "ax.set_ylabel('dependent variable')\n",
    "ax.legend()\n"
   ]
  },
  {
   "cell_type": "code",
   "execution_count": 80,
   "metadata": {},
   "outputs": [
    {
     "name": "stdout",
     "output_type": "stream",
     "text": [
      "linear regression slope                             OLS Regression Results                            \n",
      "==============================================================================\n",
      "Dep. Variable:                      y   R-squared:                       1.000\n",
      "Model:                            OLS   Adj. R-squared:                  1.000\n",
      "Method:                 Least Squares   F-statistic:                 4.986e+32\n",
      "Date:                Sun, 11 Nov 2018   Prob (F-statistic):               0.00\n",
      "Time:                        20:05:32   Log-Likelihood:                 2981.8\n",
      "No. Observations:                 100   AIC:                            -5962.\n",
      "Df Residuals:                      99   BIC:                            -5959.\n",
      "Df Model:                           1                                         \n",
      "Covariance Type:            nonrobust                                         \n",
      "==============================================================================\n",
      "                 coef    std err          t      P>|t|      [95.0% Conf. Int.]\n",
      "------------------------------------------------------------------------------\n",
      "x1             1.0000   4.48e-17   2.23e+16      0.000         1.000     1.000\n",
      "==============================================================================\n",
      "Omnibus:                       20.338   Durbin-Watson:                   0.005\n",
      "Prob(Omnibus):                  0.000   Jarque-Bera (JB):                5.391\n",
      "Skew:                           0.177   Prob(JB):                       0.0675\n",
      "Kurtosis:                       1.919   Cond. No.                         1.00\n",
      "==============================================================================\n",
      "\n",
      "Warnings:\n",
      "[1] Standard Errors assume that the covariance matrix of the errors is correctly specified.\n"
     ]
    },
    {
     "data": {
      "text/plain": [
       "<matplotlib.legend.Legend at 0x7f42c8c3e780>"
      ]
     },
     "execution_count": 80,
     "metadata": {},
     "output_type": "execute_result"
    },
    {
     "data": {
      "image/png": "[encoded data removed]",
      "text/plain": [
       "<matplotlib.figure.Figure at 0x7f42c8e4feb8>"
      ]
     },
     "metadata": {},
     "output_type": "display_data"
    }
   ],
   "source": [
    "x = np.linspace(10,100,100)\n",
    "y = line(0.7, 0, x)\n",
    "\n",
    "mrnew = myregression(x, y)\n",
    "xnew = np.linspace(10,100,10)\n",
    "fig = pl.figure(figsize=(10,10))\n",
    "ax = fig.add_subplot(221)\n",
    "ax.scatter(x, y, label = \"just a line\")\n",
    "ax.set_xlabel('independent variable')\n",
    "ax.set_ylabel('dependent variable')\n",
    "ax2 = fig.add_subplot(222)\n",
    "ax2.scatter(x, y, label = \"just a line\")\n",
    "ax2.set_xlabel('independent variable')\n",
    "ax2.set_ylabel('dependent variable')\n",
    "ax2.plot(xnew, mrnew.predict(xnew), 'r', alpha=0.5, \n",
    "         label = \"statsmodels fit\")\n",
    "ax2.legend()\n"
   ]
  },
  {
   "cell_type": "code",
   "execution_count": 85,
   "metadata": {},
   "outputs": [
    {
     "name": "stdout",
     "output_type": "stream",
     "text": [
      "linear regression slope                             OLS Regression Results                            \n",
      "==============================================================================\n",
      "Dep. Variable:                      y   R-squared:                       0.994\n",
      "Model:                            OLS   Adj. R-squared:                  0.994\n",
      "Method:                 Least Squares   F-statistic:                 1.729e+04\n",
      "Date:                Sun, 11 Nov 2018   Prob (F-statistic):          6.29e-113\n",
      "Time:                        20:10:00   Log-Likelihood:                -295.47\n",
      "No. Observations:                 100   AIC:                             592.9\n",
      "Df Residuals:                      99   BIC:                             595.6\n",
      "Df Model:                           1                                         \n",
      "Covariance Type:            nonrobust                                         \n",
      "==============================================================================\n",
      "                 coef    std err          t      P>|t|      [95.0% Conf. Int.]\n",
      "------------------------------------------------------------------------------\n",
      "x1             1.0072      0.008    131.478      0.000         0.992     1.022\n",
      "==============================================================================\n",
      "Omnibus:                        2.306   Durbin-Watson:                   2.144\n",
      "Prob(Omnibus):                  0.316   Jarque-Bera (JB):                2.052\n",
      "Skew:                           0.244   Prob(JB):                        0.358\n",
      "Kurtosis:                       2.496   Cond. No.                         1.00\n",
      "==============================================================================\n",
      "\n",
      "Warnings:\n",
      "[1] Standard Errors assume that the covariance matrix of the errors is correctly specified.\n"
     ]
    },
    {
     "data": {
      "text/plain": [
       "<matplotlib.legend.Legend at 0x7f42c8156d68>"
      ]
     },
     "execution_count": 85,
     "metadata": {},
     "output_type": "execute_result"
    },
    {
     "data": {
      "image/png": "[encoded data removed]",
      "text/plain": [
       "<matplotlib.figure.Figure at 0x7f42c8cde1d0>"
      ]
     },
     "metadata": {},
     "output_type": "display_data"
    }
   ],
   "source": [
    "y = y + np.random.randn(100) * 2.5\n",
    "mrold = mrnew\n",
    "\n",
    "#I use just OLD: the ordinary square fit which does not take the error bars \n",
    "#into account\n",
    "#refer to statsmodels documentation!!\n",
    "mrnew = myregression(x, y)\n",
    "\n",
    "fig = pl.figure(figsize=(10, 10))\n",
    "ax = fig.add_subplot(221)\n",
    "ax.scatter(x, y, label = \"plus some noise\")\n",
    "ax.plot(xnew, mrold.predict(xnew), 'k', alpha=0.5, label='old fit')\n",
    "\n",
    "ax.set_xlabel('independent variable')\n",
    "ax.set_ylabel('dependent variable')\n",
    "ax.legend()\n",
    "\n"
   ]
  },
  {
   "cell_type": "code",
   "execution_count": 44,
   "metadata": {
    "ExecuteTime": {
     "end_time": "2018-11-08T18:05:47.132879Z",
     "start_time": "2018-11-08T18:05:46.952667Z"
    },
    "run_control": {
     "frozen": false,
     "read_only": false
    },
    "scrolled": false
   },
   "outputs": [
    {
     "data": {
      "image/png": "[encoded data removed]",
      "text/plain": [
       "<Figure size 432x288 with 1 Axes>"
      ]
     },
     "metadata": {},
     "output_type": "display_data"
    }
   ],
   "source": [
    "#This is Professor's Code"
   ]
  },
  {
   "cell_type": "markdown",
   "metadata": {
    "run_control": {
     "frozen": false,
     "read_only": false
    }
   },
   "source": [
    "# 2. print y, x, and the result of applying statsmodels.api.add_constant() to x"
   ]
  },
  {
   "cell_type": "code",
   "execution_count": 20,
   "metadata": {},
   "outputs": [
    {
     "name": "stdout",
     "output_type": "stream",
     "text": [
      "This is the dependent (response) aka endogenous variable: [  7.  14.  21.  28.  35.  42.  49.  56.  63.  70.]\n",
      "This is the independent (predictor) aka exogenous variable: [  10.   20.   30.   40.   50.   60.   70.   80.   90.  100.]\n",
      "This is what the independent (predictor) aka exogenous variable looks like with a constant added to it: [[   1.   10.]\n",
      " [   1.   20.]\n",
      " [   1.   30.]\n",
      " [   1.   40.]\n",
      " [   1.   50.]\n",
      " [   1.   60.]\n",
      " [   1.   70.]\n",
      " [   1.   80.]\n",
      " [   1.   90.]\n",
      " [   1.  100.]]\n"
     ]
    }
   ],
   "source": [
    "x_with_constant_added = sm.add_constant(x)\n",
    "print(\"This is the dependent (response) aka endogenous variable:\", y)\n",
    "print(\"This is the independent (predictor) aka exogenous variable:\", x)\n",
    "print(\"This is what the independent (predictor) aka exogenous variable looks like with a constant added to it:\", x_with_constant_added)"
   ]
  },
  {
   "cell_type": "markdown",
   "metadata": {
    "run_control": {
     "frozen": false,
     "read_only": false
    }
   },
   "source": [
    "# 3. use statsmodels.api.OLS to fit x and y \n",
    "- a. *the wrong way*: by passing x as exogenous variable\n",
    "- b. *the right way*: by passing statsmodels.api.add_constant(x) as exogenous variable\n",
    "\n",
    "# and print the model summary for each and discuss the differences"
   ]
  },
  {
   "cell_type": "code",
   "execution_count": 141,
   "metadata": {
    "ExecuteTime": {
     "end_time": "2018-11-08T17:14:00.771892Z",
     "start_time": "2018-11-08T17:14:00.720962Z"
    },
    "run_control": {
     "frozen": false,
     "read_only": false
    }
   },
   "outputs": [
    {
     "name": "stderr",
     "output_type": "stream",
     "text": [
      "/usr/local/Anaconda3-5.0.0-Linux-x86_64/envs/PUI2016_Python3/lib/python3.5/site-packages/scipy/stats/stats.py:1535: UserWarning: kurtosistest only valid for n>=20 ... continuing anyway, n=10\n",
      "  \"anyway, n=%i\" % int(n))\n"
     ]
    },
    {
     "data": {
      "text/html": [
       "<table class=\"simpletable\">\n",
       "<caption>OLS Regression Results</caption>\n",
       "<tr>\n",
       "  <th>Dep. Variable:</th>            <td>y</td>        <th>  R-squared:         </th> <td>   1.000</td> \n",
       "</tr>\n",
       "<tr>\n",
       "  <th>Model:</th>                   <td>OLS</td>       <th>  Adj. R-squared:    </th> <td>   1.000</td> \n",
       "</tr>\n",
       "<tr>\n",
       "  <th>Method:</th>             <td>Least Squares</td>  <th>  F-statistic:       </th> <td>2.181e+32</td>\n",
       "</tr>\n",
       "<tr>\n",
       "  <th>Date:</th>             <td>Sun, 11 Nov 2018</td> <th>  Prob (F-statistic):</th> <td>1.52e-142</td>\n",
       "</tr>\n",
       "<tr>\n",
       "  <th>Time:</th>                 <td>18:06:59</td>     <th>  Log-Likelihood:    </th> <td>  359.41</td> \n",
       "</tr>\n",
       "<tr>\n",
       "  <th>No. Observations:</th>      <td>    10</td>      <th>  AIC:               </th> <td>  -716.8</td> \n",
       "</tr>\n",
       "<tr>\n",
       "  <th>Df Residuals:</th>          <td>     9</td>      <th>  BIC:               </th> <td>  -716.5</td> \n",
       "</tr>\n",
       "<tr>\n",
       "  <th>Df Model:</th>              <td>     1</td>      <th>                     </th>     <td> </td>    \n",
       "</tr>\n",
       "<tr>\n",
       "  <th>Covariance Type:</th>      <td>nonrobust</td>    <th>                     </th>     <td> </td>    \n",
       "</tr>\n",
       "</table>\n",
       "<table class=\"simpletable\">\n",
       "<tr>\n",
       "   <td></td>     <th>coef</th>     <th>std err</th>      <th>t</th>      <th>P>|t|</th> <th>[95.0% Conf. Int.]</th> \n",
       "</tr>\n",
       "<tr>\n",
       "  <th>x1</th> <td>    0.5000</td> <td> 3.39e-17</td> <td> 1.48e+16</td> <td> 0.000</td> <td>    0.500     0.500</td>\n",
       "</tr>\n",
       "</table>\n",
       "<table class=\"simpletable\">\n",
       "<tr>\n",
       "  <th>Omnibus:</th>       <td>10.398</td> <th>  Durbin-Watson:     </th> <td>   0.217</td>\n",
       "</tr>\n",
       "<tr>\n",
       "  <th>Prob(Omnibus):</th> <td> 0.006</td> <th>  Jarque-Bera (JB):  </th> <td>   4.444</td>\n",
       "</tr>\n",
       "<tr>\n",
       "  <th>Skew:</th>          <td> 1.291</td> <th>  Prob(JB):          </th> <td>   0.108</td>\n",
       "</tr>\n",
       "<tr>\n",
       "  <th>Kurtosis:</th>      <td> 5.000</td> <th>  Cond. No.          </th> <td>    1.00</td>\n",
       "</tr>\n",
       "</table>"
      ],
      "text/plain": [
       "<class 'statsmodels.iolib.summary.Summary'>\n",
       "\"\"\"\n",
       "                            OLS Regression Results                            \n",
       "==============================================================================\n",
       "Dep. Variable:                      y   R-squared:                       1.000\n",
       "Model:                            OLS   Adj. R-squared:                  1.000\n",
       "Method:                 Least Squares   F-statistic:                 2.181e+32\n",
       "Date:                Sun, 11 Nov 2018   Prob (F-statistic):          1.52e-142\n",
       "Time:                        18:06:59   Log-Likelihood:                 359.41\n",
       "No. Observations:                  10   AIC:                            -716.8\n",
       "Df Residuals:                       9   BIC:                            -716.5\n",
       "Df Model:                           1                                         \n",
       "Covariance Type:            nonrobust                                         \n",
       "==============================================================================\n",
       "                 coef    std err          t      P>|t|      [95.0% Conf. Int.]\n",
       "------------------------------------------------------------------------------\n",
       "x1             0.5000   3.39e-17   1.48e+16      0.000         0.500     0.500\n",
       "==============================================================================\n",
       "Omnibus:                       10.398   Durbin-Watson:                   0.217\n",
       "Prob(Omnibus):                  0.006   Jarque-Bera (JB):                4.444\n",
       "Skew:                           1.291   Prob(JB):                        0.108\n",
       "Kurtosis:                       5.000   Cond. No.                         1.00\n",
       "==============================================================================\n",
       "\n",
       "Warnings:\n",
       "[1] Standard Errors assume that the covariance matrix of the errors is correctly specified.\n",
       "\"\"\""
      ]
     },
     "execution_count": 141,
     "metadata": {},
     "output_type": "execute_result"
    }
   ],
   "source": [
    "#THE WRONG WAY\n",
    "smfit_wrong = smf.OLS(y, x).fit()\n",
    "smfit_wrong.summary()"
   ]
  },
  {
   "cell_type": "code",
   "execution_count": 142,
   "metadata": {},
   "outputs": [
    {
     "name": "stderr",
     "output_type": "stream",
     "text": [
      "/usr/local/Anaconda3-5.0.0-Linux-x86_64/envs/PUI2016_Python3/lib/python3.5/site-packages/scipy/stats/stats.py:1535: UserWarning: kurtosistest only valid for n>=20 ... continuing anyway, n=10\n",
      "  \"anyway, n=%i\" % int(n))\n"
     ]
    },
    {
     "data": {
      "text/html": [
       "<table class=\"simpletable\">\n",
       "<caption>OLS Regression Results</caption>\n",
       "<tr>\n",
       "  <th>Dep. Variable:</th>            <td>y</td>        <th>  R-squared:         </th> <td>   1.000</td> \n",
       "</tr>\n",
       "<tr>\n",
       "  <th>Model:</th>                   <td>OLS</td>       <th>  Adj. R-squared:    </th> <td>   1.000</td> \n",
       "</tr>\n",
       "<tr>\n",
       "  <th>Method:</th>             <td>Least Squares</td>  <th>  F-statistic:       </th> <td>2.410e+31</td>\n",
       "</tr>\n",
       "<tr>\n",
       "  <th>Date:</th>             <td>Sun, 11 Nov 2018</td> <th>  Prob (F-statistic):</th> <td>3.32e-123</td>\n",
       "</tr>\n",
       "<tr>\n",
       "  <th>Time:</th>                 <td>18:07:02</td>     <th>  Log-Likelihood:    </th> <td>  358.90</td> \n",
       "</tr>\n",
       "<tr>\n",
       "  <th>No. Observations:</th>      <td>    10</td>      <th>  AIC:               </th> <td>  -713.8</td> \n",
       "</tr>\n",
       "<tr>\n",
       "  <th>Df Residuals:</th>          <td>     8</td>      <th>  BIC:               </th> <td>  -713.2</td> \n",
       "</tr>\n",
       "<tr>\n",
       "  <th>Df Model:</th>              <td>     1</td>      <th>                     </th>     <td> </td>    \n",
       "</tr>\n",
       "<tr>\n",
       "  <th>Covariance Type:</th>      <td>nonrobust</td>    <th>                     </th>     <td> </td>    \n",
       "</tr>\n",
       "</table>\n",
       "<table class=\"simpletable\">\n",
       "<tr>\n",
       "    <td></td>       <th>coef</th>     <th>std err</th>      <th>t</th>      <th>P>|t|</th> <th>[95.0% Conf. Int.]</th> \n",
       "</tr>\n",
       "<tr>\n",
       "  <th>const</th> <td>-8.327e-17</td> <td> 5.97e-17</td> <td>   -1.395</td> <td> 0.201</td> <td>-2.21e-16  5.44e-17</td>\n",
       "</tr>\n",
       "<tr>\n",
       "  <th>x1</th>    <td>    0.5000</td> <td> 1.02e-16</td> <td> 4.91e+15</td> <td> 0.000</td> <td>    0.500     0.500</td>\n",
       "</tr>\n",
       "</table>\n",
       "<table class=\"simpletable\">\n",
       "<tr>\n",
       "  <th>Omnibus:</th>       <td> 7.957</td> <th>  Durbin-Watson:     </th> <td>   1.412</td>\n",
       "</tr>\n",
       "<tr>\n",
       "  <th>Prob(Omnibus):</th> <td> 0.019</td> <th>  Jarque-Bera (JB):  </th> <td>   3.194</td>\n",
       "</tr>\n",
       "<tr>\n",
       "  <th>Skew:</th>          <td>-1.268</td> <th>  Prob(JB):          </th> <td>   0.203</td>\n",
       "</tr>\n",
       "<tr>\n",
       "  <th>Kurtosis:</th>      <td> 4.109</td> <th>  Cond. No.          </th> <td>    6.01</td>\n",
       "</tr>\n",
       "</table>"
      ],
      "text/plain": [
       "<class 'statsmodels.iolib.summary.Summary'>\n",
       "\"\"\"\n",
       "                            OLS Regression Results                            \n",
       "==============================================================================\n",
       "Dep. Variable:                      y   R-squared:                       1.000\n",
       "Model:                            OLS   Adj. R-squared:                  1.000\n",
       "Method:                 Least Squares   F-statistic:                 2.410e+31\n",
       "Date:                Sun, 11 Nov 2018   Prob (F-statistic):          3.32e-123\n",
       "Time:                        18:07:02   Log-Likelihood:                 358.90\n",
       "No. Observations:                  10   AIC:                            -713.8\n",
       "Df Residuals:                       8   BIC:                            -713.2\n",
       "Df Model:                           1                                         \n",
       "Covariance Type:            nonrobust                                         \n",
       "==============================================================================\n",
       "                 coef    std err          t      P>|t|      [95.0% Conf. Int.]\n",
       "------------------------------------------------------------------------------\n",
       "const      -8.327e-17   5.97e-17     -1.395      0.201     -2.21e-16  5.44e-17\n",
       "x1             0.5000   1.02e-16   4.91e+15      0.000         0.500     0.500\n",
       "==============================================================================\n",
       "Omnibus:                        7.957   Durbin-Watson:                   1.412\n",
       "Prob(Omnibus):                  0.019   Jarque-Bera (JB):                3.194\n",
       "Skew:                          -1.268   Prob(JB):                        0.203\n",
       "Kurtosis:                       4.109   Cond. No.                         6.01\n",
       "==============================================================================\n",
       "\n",
       "Warnings:\n",
       "[1] Standard Errors assume that the covariance matrix of the errors is correctly specified.\n",
       "\"\"\""
      ]
     },
     "execution_count": 142,
     "metadata": {},
     "output_type": "execute_result"
    }
   ],
   "source": [
    "#The Right Way - done by me\n",
    "smfit_right = sm.OLS(y, x_with_constant_added).fit()\n",
    "smfit_right.summary()"
   ]
  },
  {
   "cell_type": "code",
   "execution_count": 8,
   "metadata": {
    "ExecuteTime": {
     "end_time": "2018-11-08T17:14:00.812856Z",
     "start_time": "2018-11-08T17:14:00.775233Z"
    },
    "run_control": {
     "frozen": false,
     "read_only": false
    }
   },
   "outputs": [
    {
     "name": "stderr",
     "output_type": "stream",
     "text": [
      "//anaconda/envs/GEOP/lib/python3.6/site-packages/scipy/stats/stats.py:1390: UserWarning: kurtosistest only valid for n>=20 ... continuing anyway, n=10\n",
      "  \"anyway, n=%i\" % int(n))\n"
     ]
    },
    {
     "data": {
      "text/html": [
       "<table class=\"simpletable\">\n",
       "<caption>OLS Regression Results</caption>\n",
       "<tr>\n",
       "  <th>Dep. Variable:</th>            <td>y</td>        <th>  R-squared:         </th> <td>   0.884</td>\n",
       "</tr>\n",
       "<tr>\n",
       "  <th>Model:</th>                   <td>OLS</td>       <th>  Adj. R-squared:    </th> <td>   0.869</td>\n",
       "</tr>\n",
       "<tr>\n",
       "  <th>Method:</th>             <td>Least Squares</td>  <th>  F-statistic:       </th> <td>   60.79</td>\n",
       "</tr>\n",
       "<tr>\n",
       "  <th>Date:</th>             <td>Thu, 08 Nov 2018</td> <th>  Prob (F-statistic):</th> <td>5.25e-05</td>\n",
       "</tr>\n",
       "<tr>\n",
       "  <th>Time:</th>                 <td>12:14:00</td>     <th>  Log-Likelihood:    </th> <td> -35.023</td>\n",
       "</tr>\n",
       "<tr>\n",
       "  <th>No. Observations:</th>      <td>    10</td>      <th>  AIC:               </th> <td>   74.05</td>\n",
       "</tr>\n",
       "<tr>\n",
       "  <th>Df Residuals:</th>          <td>     8</td>      <th>  BIC:               </th> <td>   74.65</td>\n",
       "</tr>\n",
       "<tr>\n",
       "  <th>Df Model:</th>              <td>     1</td>      <th>                     </th>     <td> </td>   \n",
       "</tr>\n",
       "<tr>\n",
       "  <th>Covariance Type:</th>      <td>nonrobust</td>    <th>                     </th>     <td> </td>   \n",
       "</tr>\n",
       "</table>\n",
       "<table class=\"simpletable\">\n",
       "<tr>\n",
       "    <td></td>       <th>coef</th>     <th>std err</th>      <th>t</th>      <th>P>|t|</th>  <th>[0.025</th>    <th>0.975]</th>  \n",
       "</tr>\n",
       "<tr>\n",
       "  <th>const</th> <td>   -2.1669</td> <td>    6.134</td> <td>   -0.353</td> <td> 0.733</td> <td>  -16.312</td> <td>   11.978</td>\n",
       "</tr>\n",
       "<tr>\n",
       "  <th>x1</th>    <td>    0.7708</td> <td>    0.099</td> <td>    7.797</td> <td> 0.000</td> <td>    0.543</td> <td>    0.999</td>\n",
       "</tr>\n",
       "</table>\n",
       "<table class=\"simpletable\">\n",
       "<tr>\n",
       "  <th>Omnibus:</th>       <td> 0.832</td> <th>  Durbin-Watson:     </th> <td>   2.881</td>\n",
       "</tr>\n",
       "<tr>\n",
       "  <th>Prob(Omnibus):</th> <td> 0.660</td> <th>  Jarque-Bera (JB):  </th> <td>   0.060</td>\n",
       "</tr>\n",
       "<tr>\n",
       "  <th>Skew:</th>          <td> 0.189</td> <th>  Prob(JB):          </th> <td>   0.971</td>\n",
       "</tr>\n",
       "<tr>\n",
       "  <th>Kurtosis:</th>      <td> 2.980</td> <th>  Cond. No.          </th> <td>    134.</td>\n",
       "</tr>\n",
       "</table>"
      ],
      "text/plain": [
       "<class 'statsmodels.iolib.summary.Summary'>\n",
       "\"\"\"\n",
       "                            OLS Regression Results                            \n",
       "==============================================================================\n",
       "Dep. Variable:                      y   R-squared:                       0.884\n",
       "Model:                            OLS   Adj. R-squared:                  0.869\n",
       "Method:                 Least Squares   F-statistic:                     60.79\n",
       "Date:                Thu, 08 Nov 2018   Prob (F-statistic):           5.25e-05\n",
       "Time:                        12:14:00   Log-Likelihood:                -35.023\n",
       "No. Observations:                  10   AIC:                             74.05\n",
       "Df Residuals:                       8   BIC:                             74.65\n",
       "Df Model:                           1                                         \n",
       "Covariance Type:            nonrobust                                         \n",
       "==============================================================================\n",
       "                 coef    std err          t      P>|t|      [0.025      0.975]\n",
       "------------------------------------------------------------------------------\n",
       "const         -2.1669      6.134     -0.353      0.733     -16.312      11.978\n",
       "x1             0.7708      0.099      7.797      0.000       0.543       0.999\n",
       "==============================================================================\n",
       "Omnibus:                        0.832   Durbin-Watson:                   2.881\n",
       "Prob(Omnibus):                  0.660   Jarque-Bera (JB):                0.060\n",
       "Skew:                           0.189   Prob(JB):                        0.971\n",
       "Kurtosis:                       2.980   Cond. No.                         134.\n",
       "==============================================================================\n",
       "\n",
       "Warnings:\n",
       "[1] Standard Errors assume that the covariance matrix of the errors is correctly specified.\n",
       "\"\"\""
      ]
     },
     "execution_count": 8,
     "metadata": {},
     "output_type": "execute_result"
    }
   ],
   "source": [
    "#THE RIGHT WAY"
   ]
  },
  {
   "cell_type": "markdown",
   "metadata": {
    "run_control": {
     "frozen": false,
     "read_only": false
    }
   },
   "source": [
    "# 4. plot the data (as points) and both statsmodels fits"
   ]
  },
  {
   "cell_type": "code",
   "execution_count": 125,
   "metadata": {},
   "outputs": [
    {
     "data": {
      "text/plain": [
       "array([   0.        ,   11.11111111,   22.22222222,   33.33333333,\n",
       "         44.44444444,   55.55555556,   66.66666667,   77.77777778,\n",
       "         88.88888889,  100.        ])"
      ]
     },
     "execution_count": 125,
     "metadata": {},
     "output_type": "execute_result"
    }
   ],
   "source": [
    "x"
   ]
  },
  {
   "cell_type": "code",
   "execution_count": 148,
   "metadata": {},
   "outputs": [
    {
     "data": {
      "text/plain": [
       "array([ 0.34823459,  0.14306967,  0.11342573,  0.27565738,  0.35973448,\n",
       "        0.21155323,  0.4903821 ,  0.34241487,  0.24046595,  0.19605876])"
      ]
     },
     "execution_count": 148,
     "metadata": {},
     "output_type": "execute_result"
    }
   ],
   "source": [
    "smfit_right.predict()"
   ]
  },
  {
   "cell_type": "code",
   "execution_count": 149,
   "metadata": {},
   "outputs": [
    {
     "data": {
      "text/plain": [
       "array([ 0.34823459,  0.14306967,  0.11342573,  0.27565738,  0.35973448,\n",
       "        0.21155323,  0.4903821 ,  0.34241487,  0.24046595,  0.19605876])"
      ]
     },
     "execution_count": 149,
     "metadata": {},
     "output_type": "execute_result"
    }
   ],
   "source": [
    "smfit_wrong.predict()"
   ]
  },
  {
   "cell_type": "code",
   "execution_count": 143,
   "metadata": {
    "scrolled": true
   },
   "outputs": [
    {
     "data": {
      "text/plain": [
       "[<matplotlib.lines.Line2D at 0x7f6ce90748d0>]"
      ]
     },
     "execution_count": 143,
     "metadata": {},
     "output_type": "execute_result"
    },
    {
     "data": {
      "image/png": "[encoded data removed]",
      "text/plain": [
       "<matplotlib.figure.Figure at 0x7f6ce9074470>"
      ]
     },
     "metadata": {},
     "output_type": "display_data"
    }
   ],
   "source": [
    "plt.scatter(x, y, alpha=0.3)\n",
    "plt.plot(x, smfit_wrong.predict(x), 'r', alpha=0.9)"
   ]
  },
  {
   "cell_type": "code",
   "execution_count": 130,
   "metadata": {},
   "outputs": [
    {
     "ename": "ValueError",
     "evalue": "x and y must be the same size",
     "output_type": "error",
     "traceback": [
      "\u001b[0;31m---------------------------------------------------------------------------\u001b[0m",
      "\u001b[0;31mValueError\u001b[0m                                Traceback (most recent call last)",
      "\u001b[0;32m<ipython-input-130-0caf8cb0144b>\u001b[0m in \u001b[0;36m<module>\u001b[0;34m()\u001b[0m\n\u001b[0;32m----> 1\u001b[0;31m \u001b[0mplt\u001b[0m\u001b[0;34m.\u001b[0m\u001b[0mscatter\u001b[0m\u001b[0;34m(\u001b[0m\u001b[0mx_with_constant_added\u001b[0m\u001b[0;34m,\u001b[0m \u001b[0my\u001b[0m\u001b[0;34m,\u001b[0m \u001b[0malpha\u001b[0m\u001b[0;34m=\u001b[0m\u001b[0;36m0.3\u001b[0m\u001b[0;34m)\u001b[0m\u001b[0;34m\u001b[0m\u001b[0m\n\u001b[0m",
      "\u001b[0;32m/usr/local/Anaconda3-5.0.0-Linux-x86_64/envs/PUI2016_Python3/lib/python3.5/site-packages/matplotlib/pyplot.py\u001b[0m in \u001b[0;36mscatter\u001b[0;34m(x, y, s, c, marker, cmap, norm, vmin, vmax, alpha, linewidths, verts, edgecolors, hold, data, **kwargs)\u001b[0m\n\u001b[1;32m   3355\u001b[0m                          \u001b[0mvmin\u001b[0m\u001b[0;34m=\u001b[0m\u001b[0mvmin\u001b[0m\u001b[0;34m,\u001b[0m \u001b[0mvmax\u001b[0m\u001b[0;34m=\u001b[0m\u001b[0mvmax\u001b[0m\u001b[0;34m,\u001b[0m \u001b[0malpha\u001b[0m\u001b[0;34m=\u001b[0m\u001b[0malpha\u001b[0m\u001b[0;34m,\u001b[0m\u001b[0;34m\u001b[0m\u001b[0m\n\u001b[1;32m   3356\u001b[0m                          \u001b[0mlinewidths\u001b[0m\u001b[0;34m=\u001b[0m\u001b[0mlinewidths\u001b[0m\u001b[0;34m,\u001b[0m \u001b[0mverts\u001b[0m\u001b[0;34m=\u001b[0m\u001b[0mverts\u001b[0m\u001b[0;34m,\u001b[0m\u001b[0;34m\u001b[0m\u001b[0m\n\u001b[0;32m-> 3357\u001b[0;31m                          edgecolors=edgecolors, data=data, **kwargs)\n\u001b[0m\u001b[1;32m   3358\u001b[0m     \u001b[0;32mfinally\u001b[0m\u001b[0;34m:\u001b[0m\u001b[0;34m\u001b[0m\u001b[0m\n\u001b[1;32m   3359\u001b[0m         \u001b[0max\u001b[0m\u001b[0;34m.\u001b[0m\u001b[0m_hold\u001b[0m \u001b[0;34m=\u001b[0m \u001b[0mwashold\u001b[0m\u001b[0;34m\u001b[0m\u001b[0m\n",
      "\u001b[0;32m/usr/local/Anaconda3-5.0.0-Linux-x86_64/envs/PUI2016_Python3/lib/python3.5/site-packages/matplotlib/__init__.py\u001b[0m in \u001b[0;36minner\u001b[0;34m(ax, *args, **kwargs)\u001b[0m\n\u001b[1;32m   1708\u001b[0m                     warnings.warn(msg % (label_namer, func.__name__),\n\u001b[1;32m   1709\u001b[0m                                   RuntimeWarning, stacklevel=2)\n\u001b[0;32m-> 1710\u001b[0;31m             \u001b[0;32mreturn\u001b[0m \u001b[0mfunc\u001b[0m\u001b[0;34m(\u001b[0m\u001b[0max\u001b[0m\u001b[0;34m,\u001b[0m \u001b[0;34m*\u001b[0m\u001b[0margs\u001b[0m\u001b[0;34m,\u001b[0m \u001b[0;34m**\u001b[0m\u001b[0mkwargs\u001b[0m\u001b[0;34m)\u001b[0m\u001b[0;34m\u001b[0m\u001b[0m\n\u001b[0m\u001b[1;32m   1711\u001b[0m         \u001b[0mpre_doc\u001b[0m \u001b[0;34m=\u001b[0m \u001b[0minner\u001b[0m\u001b[0;34m.\u001b[0m\u001b[0m__doc__\u001b[0m\u001b[0;34m\u001b[0m\u001b[0m\n\u001b[1;32m   1712\u001b[0m         \u001b[0;32mif\u001b[0m \u001b[0mpre_doc\u001b[0m \u001b[0;32mis\u001b[0m \u001b[0;32mNone\u001b[0m\u001b[0;34m:\u001b[0m\u001b[0;34m\u001b[0m\u001b[0m\n",
      "\u001b[0;32m/usr/local/Anaconda3-5.0.0-Linux-x86_64/envs/PUI2016_Python3/lib/python3.5/site-packages/matplotlib/axes/_axes.py\u001b[0m in \u001b[0;36mscatter\u001b[0;34m(self, x, y, s, c, marker, cmap, norm, vmin, vmax, alpha, linewidths, verts, edgecolors, **kwargs)\u001b[0m\n\u001b[1;32m   4017\u001b[0m         \u001b[0my\u001b[0m \u001b[0;34m=\u001b[0m \u001b[0mnp\u001b[0m\u001b[0;34m.\u001b[0m\u001b[0mma\u001b[0m\u001b[0;34m.\u001b[0m\u001b[0mravel\u001b[0m\u001b[0;34m(\u001b[0m\u001b[0my\u001b[0m\u001b[0;34m)\u001b[0m\u001b[0;34m\u001b[0m\u001b[0m\n\u001b[1;32m   4018\u001b[0m         \u001b[0;32mif\u001b[0m \u001b[0mx\u001b[0m\u001b[0;34m.\u001b[0m\u001b[0msize\u001b[0m \u001b[0;34m!=\u001b[0m \u001b[0my\u001b[0m\u001b[0;34m.\u001b[0m\u001b[0msize\u001b[0m\u001b[0;34m:\u001b[0m\u001b[0;34m\u001b[0m\u001b[0m\n\u001b[0;32m-> 4019\u001b[0;31m             \u001b[0;32mraise\u001b[0m \u001b[0mValueError\u001b[0m\u001b[0;34m(\u001b[0m\u001b[0;34m\"x and y must be the same size\"\u001b[0m\u001b[0;34m)\u001b[0m\u001b[0;34m\u001b[0m\u001b[0m\n\u001b[0m\u001b[1;32m   4020\u001b[0m \u001b[0;34m\u001b[0m\u001b[0m\n\u001b[1;32m   4021\u001b[0m         \u001b[0;32mif\u001b[0m \u001b[0ms\u001b[0m \u001b[0;32mis\u001b[0m \u001b[0;32mNone\u001b[0m\u001b[0;34m:\u001b[0m\u001b[0;34m\u001b[0m\u001b[0m\n",
      "\u001b[0;31mValueError\u001b[0m: x and y must be the same size"
     ]
    },
    {
     "data": {
      "image/png": "[encoded data removed]",
      "text/plain": [
       "<matplotlib.figure.Figure at 0x7f6ce94532e8>"
      ]
     },
     "metadata": {},
     "output_type": "display_data"
    }
   ],
   "source": [
    "plt.scatter(x_with_constant_added, y, alpha=0.3)"
   ]
  },
  {
   "cell_type": "code",
   "execution_count": 116,
   "metadata": {},
   "outputs": [
    {
     "data": {
      "text/plain": [
       "array([ 0.5])"
      ]
     },
     "execution_count": 116,
     "metadata": {},
     "output_type": "execute_result"
    }
   ],
   "source": [
    "smfit_wrong.params"
   ]
  },
  {
   "cell_type": "code",
   "execution_count": 117,
   "metadata": {},
   "outputs": [
    {
     "data": {
      "text/plain": [
       "array([-15.,   1.])"
      ]
     },
     "execution_count": 117,
     "metadata": {},
     "output_type": "execute_result"
    }
   ],
   "source": [
    "smfit_right.params"
   ]
  },
  {
   "cell_type": "code",
   "execution_count": 144,
   "metadata": {},
   "outputs": [
    {
     "data": {
      "text/plain": [
       "[<matplotlib.lines.Line2D at 0x7f6ce8ff0518>]"
      ]
     },
     "execution_count": 144,
     "metadata": {},
     "output_type": "execute_result"
    },
    {
     "data": {
      "image/png": "[encoded data removed]",
      "text/plain": [
       "<matplotlib.figure.Figure at 0x7f6ce9463ef0>"
      ]
     },
     "metadata": {},
     "output_type": "display_data"
    }
   ],
   "source": [
    "#splt = plt.subplot(121)\n",
    "# smfit_wrong, smfit_right\n",
    "\n",
    "plt.scatter(x, y, alpha=0.3)\n",
    "#plt.plot(x_with_constant_added, smfit_right.predict(), 'r', alpha=0.9)\n",
    "plt.plot(x, smfit_wrong.predict(), 'b', alpha=0.9)\n",
    "plt.plot(x, smfit_right.predict(), 'r', alpha=0.9)\n",
    "#plt.plot(x_with_constant_added, smfit_wrong.predict(), 'g', alpha=0.9)"
   ]
  },
  {
   "cell_type": "code",
   "execution_count": null,
   "metadata": {},
   "outputs": [],
   "source": []
  },
  {
   "cell_type": "markdown",
   "metadata": {
    "run_control": {
     "frozen": false,
     "read_only": false
    }
   },
   "source": [
    "# 5. create a line with a chosen slope and a chosen intercept >=100*slope and plot it with uncertainties as errorbars"
   ]
  },
  {
   "cell_type": "markdown",
   "metadata": {
    "run_control": {
     "frozen": false,
     "read_only": false
    }
   },
   "source": [
    "# 6. repeat step 3"
   ]
  },
  {
   "cell_type": "markdown",
   "metadata": {
    "run_control": {
     "frozen": false,
     "read_only": false
    }
   },
   "source": [
    "# 7. now fit the data with WLS weighted least square, a linear fit that takes into account the uncertainties by \"down-weighting\" (considering less important) observations with large uncertainties"
   ]
  },
  {
   "cell_type": "markdown",
   "metadata": {
    "ExecuteTime": {
     "end_time": "2018-11-08T17:02:55.249878Z",
     "start_time": "2018-11-08T17:02:55.203641Z"
    },
    "run_control": {
     "frozen": false,
     "read_only": false
    }
   },
   "source": [
    "you should at this point ask: how can I create weights from my uncertainties? The answer, as often is the case, is not unique. But a rule of thumb is that the weights would be the _inverse_ (remember: larger error must mean smaller weight) of the variance, with is the standard deviation square. Look at the error() function I create and design your weights array according to this rule"
   ]
  },
  {
   "cell_type": "code",
   "execution_count": 14,
   "metadata": {
    "ExecuteTime": {
     "end_time": "2018-11-08T17:14:01.661927Z",
     "start_time": "2018-11-08T17:14:01.633175Z"
    },
    "run_control": {
     "frozen": false,
     "read_only": false
    }
   },
   "outputs": [
    {
     "name": "stderr",
     "output_type": "stream",
     "text": [
      "//anaconda/envs/GEOP/lib/python3.6/site-packages/scipy/stats/stats.py:1390: UserWarning: kurtosistest only valid for n>=20 ... continuing anyway, n=10\n",
      "  \"anyway, n=%i\" % int(n))\n"
     ]
    },
    {
     "data": {
      "text/html": [
       "<table class=\"simpletable\">\n",
       "<caption>WLS Regression Results</caption>\n",
       "<tr>\n",
       "  <th>Dep. Variable:</th>            <td>y</td>        <th>  R-squared:         </th> <td>   0.944</td>\n",
       "</tr>\n",
       "<tr>\n",
       "  <th>Model:</th>                   <td>WLS</td>       <th>  Adj. R-squared:    </th> <td>   0.937</td>\n",
       "</tr>\n",
       "<tr>\n",
       "  <th>Method:</th>             <td>Least Squares</td>  <th>  F-statistic:       </th> <td>   134.8</td>\n",
       "</tr>\n",
       "<tr>\n",
       "  <th>Date:</th>             <td>Thu, 08 Nov 2018</td> <th>  Prob (F-statistic):</th> <td>2.75e-06</td>\n",
       "</tr>\n",
       "<tr>\n",
       "  <th>Time:</th>                 <td>12:14:01</td>     <th>  Log-Likelihood:    </th> <td> -29.722</td>\n",
       "</tr>\n",
       "<tr>\n",
       "  <th>No. Observations:</th>      <td>    10</td>      <th>  AIC:               </th> <td>   63.44</td>\n",
       "</tr>\n",
       "<tr>\n",
       "  <th>Df Residuals:</th>          <td>     8</td>      <th>  BIC:               </th> <td>   64.05</td>\n",
       "</tr>\n",
       "<tr>\n",
       "  <th>Df Model:</th>              <td>     1</td>      <th>                     </th>     <td> </td>   \n",
       "</tr>\n",
       "<tr>\n",
       "  <th>Covariance Type:</th>      <td>nonrobust</td>    <th>                     </th>     <td> </td>   \n",
       "</tr>\n",
       "</table>\n",
       "<table class=\"simpletable\">\n",
       "<tr>\n",
       "    <td></td>       <th>coef</th>     <th>std err</th>      <th>t</th>      <th>P>|t|</th>  <th>[0.025</th>    <th>0.975]</th>  \n",
       "</tr>\n",
       "<tr>\n",
       "  <th>const</th> <td>   72.5287</td> <td>    2.356</td> <td>   30.781</td> <td> 0.000</td> <td>   67.095</td> <td>   77.962</td>\n",
       "</tr>\n",
       "<tr>\n",
       "  <th>x1</th>    <td>    0.6314</td> <td>    0.054</td> <td>   11.612</td> <td> 0.000</td> <td>    0.506</td> <td>    0.757</td>\n",
       "</tr>\n",
       "</table>\n",
       "<table class=\"simpletable\">\n",
       "<tr>\n",
       "  <th>Omnibus:</th>       <td> 1.226</td> <th>  Durbin-Watson:     </th> <td>   2.491</td>\n",
       "</tr>\n",
       "<tr>\n",
       "  <th>Prob(Omnibus):</th> <td> 0.542</td> <th>  Jarque-Bera (JB):  </th> <td>   0.720</td>\n",
       "</tr>\n",
       "<tr>\n",
       "  <th>Skew:</th>          <td> 0.203</td> <th>  Prob(JB):          </th> <td>   0.698</td>\n",
       "</tr>\n",
       "<tr>\n",
       "  <th>Kurtosis:</th>      <td> 1.750</td> <th>  Cond. No.          </th> <td>    70.4</td>\n",
       "</tr>\n",
       "</table>"
      ],
      "text/plain": [
       "<class 'statsmodels.iolib.summary.Summary'>\n",
       "\"\"\"\n",
       "                            WLS Regression Results                            \n",
       "==============================================================================\n",
       "Dep. Variable:                      y   R-squared:                       0.944\n",
       "Model:                            WLS   Adj. R-squared:                  0.937\n",
       "Method:                 Least Squares   F-statistic:                     134.8\n",
       "Date:                Thu, 08 Nov 2018   Prob (F-statistic):           2.75e-06\n",
       "Time:                        12:14:01   Log-Likelihood:                -29.722\n",
       "No. Observations:                  10   AIC:                             63.44\n",
       "Df Residuals:                       8   BIC:                             64.05\n",
       "Df Model:                           1                                         \n",
       "Covariance Type:            nonrobust                                         \n",
       "==============================================================================\n",
       "                 coef    std err          t      P>|t|      [0.025      0.975]\n",
       "------------------------------------------------------------------------------\n",
       "const         72.5287      2.356     30.781      0.000      67.095      77.962\n",
       "x1             0.6314      0.054     11.612      0.000       0.506       0.757\n",
       "==============================================================================\n",
       "Omnibus:                        1.226   Durbin-Watson:                   2.491\n",
       "Prob(Omnibus):                  0.542   Jarque-Bera (JB):                0.720\n",
       "Skew:                           0.203   Prob(JB):                        0.698\n",
       "Kurtosis:                       1.750   Cond. No.                         70.4\n",
       "==============================================================================\n",
       "\n",
       "Warnings:\n",
       "[1] Standard Errors assume that the covariance matrix of the errors is correctly specified.\n",
       "\"\"\""
      ]
     },
     "execution_count": 14,
     "metadata": {},
     "output_type": "execute_result"
    }
   ],
   "source": []
  },
  {
   "cell_type": "markdown",
   "metadata": {},
   "source": [
    "# Note: you can also use other statsmodels functions, for example statsmodels.formula.api which allows to pass an equation\n",
    "again, make sure that your formula supports an intercept (no deliverable for this portion, it's up to you to explore the use of this function)"
   ]
  },
  {
   "cell_type": "code",
   "execution_count": 39,
   "metadata": {
    "ExecuteTime": {
     "end_time": "2018-11-08T17:43:22.172119Z",
     "start_time": "2018-11-08T17:43:21.914280Z"
    }
   },
   "outputs": [
    {
     "data": {
      "image/png": "[encoded data removed]",
      "text/plain": [
       "<Figure size 432x288 with 1 Axes>"
      ]
     },
     "metadata": {},
     "output_type": "display_data"
    }
   ],
   "source": [
    "# statsmodels.formula.api accepts dictionaris, pandas dataframes, and python rec arrays as input: \n",
    "# all data types that host data paired with labels\n",
    "smfmodel = smf.ols('y ~ x + const', data={'x':x, 'y':y, 'const':np.ones(len(x))}).fit()\n",
    "pl.errorbar(x, y, yerr=errors(x), fmt='.')\n",
    "pl.plot(x, smfitDoneRight.fittedvalues, '-', label=\"sm.OLS\")\n",
    "pl.plot(x, smfmodel.fittedvalues, '-', label=\"smf.ols\")\n",
    "pl.xlabel(\"exogenous\")\n",
    "pl.ylabel(\"endogenous\")\n",
    "pl.legend();"
   ]
  },
  {
   "cell_type": "code",
   "execution_count": null,
   "metadata": {},
   "outputs": [],
   "source": []
  }
 ],
 "metadata": {
  "kernelspec": {
   "display_name": "PUI2016_Python3",
   "language": "python",
   "name": "pui2016_python3"
  },
  "language_info": {
   "codemirror_mode": {
    "name": "ipython",
    "version": 3
   },
   "file_extension": ".py",
   "mimetype": "text/x-python",
   "name": "python",
   "nbconvert_exporter": "python",
   "pygments_lexer": "ipython3",
   "version": "3.5.4"
  },
  "toc": {
   "colors": {
    "hover_highlight": "#DAA520",
    "running_highlight": "#FF0000",
    "selected_highlight": "#FFD700"
   },
   "moveMenuLeft": true,
   "nav_menu": {
    "height": "12px",
    "width": "252px"
   },
   "navigate_menu": true,
   "number_sections": true,
   "sideBar": true,
   "threshold": 4,
   "toc_cell": false,
   "toc_section_display": "block",
   "toc_window_display": false
  }
 },
 "nbformat": 4,
 "nbformat_minor": 2
}
